{
 "cells": [
  {
   "cell_type": "markdown",
   "id": "94572073-a8e7-4d70-b9c9-5bd388597c09",
   "metadata": {},
   "source": [
    "Clustering is a technique used in machine learning and data analysis to group similar data points together based on certain feature or charterstics.The basic concept involves partitioning a set of data points into subsets or cluster are more similar to each other compared to those in other cluster.There are various algorthims for clustering such as k-means hierachial clustering and DBSCAN each with its own apporach to defining  cluster.There are various"
   ]
  },
  {
   "cell_type": "markdown",
   "id": "e3d91fd2-7b7c-499a-8a09-5f470b34fc38",
   "metadata": {},
   "source": [
    " A deep scan also know as density-based clustering is a clustering algorthim that identifies clustering algorthim that identifies cluster based on the density of data points in the feature space .it differs from other clustering  algorthims like k-means in sevral ways:\n",
    "1. Cluster Shape\n",
    "2. Cluster Size\n",
    "3. Noise Handling\n",
    "4. Scalablity\n",
    "Overall deep scan is more suitable for datsets with high richness where cluster may have richness where clusters may have varying densties and shapes while k-means is better suited for datasets with well-defined sperical clusters."
   ]
  },
  {
   "cell_type": "markdown",
   "id": "817f3b6f-1e53-4055-b405-ba3babfe34c7",
   "metadata": {},
   "source": [
    "Determing the optimal value for epslion and the minium points parameter in density-based clustering such as DBSCAN application with Noise typically involves expermentaion and evluation here genral aporach\n",
    "1. Understanding the Data\n",
    "2. Grid search\n",
    "3. Evaluation Metrics\n",
    "4. Domain Knowldge\n",
    "5. Validation\n",
    "6. Iterative Refinement\n",
    "Keep in mind that the optimal parametrs may vary depending on the charterstics of the datsets and the specfic clusteringg task at hand its often a trade off between capturing meanigful clusterss and avoiding overfitting or underfitting"
   ]
  },
  {
   "cell_type": "markdown",
   "id": "206da0d1-9fa1-4bed-9a86-44174d3f6a94",
   "metadata": {},
   "source": [
    "Diffscan clustering also know as density infnite scan clustering is a varaition of the DBSCAN application algorthim that adresses some of its limitations particularly in handling outliers here how Diffscan clustering handles outliers:\n",
    "1. Density based clustering\n",
    "2. Core points border points and noise\n",
    "3. Infnite cluster\n",
    "4. Expanding cluster\n",
    "5. Robustness\n",
    "Overall diffscan clustering provide more flexible and robust apporach to clustering by dynamically expanding outliers through concept of an infnite cluster"
   ]
  },
  {
   "cell_type": "markdown",
   "id": "15195f02-3d3f-4406-b8b2-70f9ea43d445",
   "metadata": {},
   "source": [
    "DBSCAN density based spatial clustering of application with noise and k-means clustering algorthims with disnict apporaches to clustering data:\n",
    "1. DBSCAN:density based clustering algorthim.Does not require the number of clusters to be specfied beforehand.identfies clusters based on the density of data points in thye feature space.clusters can have arbitary  shape and size.\n",
    "2. K-means:Centroid based clustering algorthim.Requires the number of clusters to be specfied beforehand.assign data points to the nearest centroid based Euclidean distance.assume cluster to be spherical and of equal varaince "
   ]
  },
  {
   "cell_type": "markdown",
   "id": "53d3c05d-aaf3-47ee-bf52-25e655e3866f",
   "metadata": {},
   "source": [
    "DBSCAN clustering can be applied datsets with high-dimensional increase but there are some potential challenges to consider:\n",
    "1. Curse of Dimensionality:as the numberr of dimension increase the distance between points become less meanigful and the concept of density becomes less intiutive this can lead to diffculties in defining an apporpriate distance metric and neighbourhood size which are cruicial DBSCAN\n",
    "2. Increase compuational complexity:The compuational complexity of DBSCAN grows with the number of dimension making it less efficent of dimensionmaking it less efficent for high-dimensional datsets the algorthim requires calculating distance between data points which becomes more\n",
    "3. Sparsity of data\n",
    "4. Curse of high-dimensionality"
   ]
  },
  {
   "cell_type": "code",
   "execution_count": null,
   "id": "68747034-34fb-4071-95a5-2d0c9a65d625",
   "metadata": {},
   "outputs": [],
   "source": []
  }
 ],
 "metadata": {
  "kernelspec": {
   "display_name": "Python 3 (ipykernel)",
   "language": "python",
   "name": "python3"
  },
  "language_info": {
   "codemirror_mode": {
    "name": "ipython",
    "version": 3
   },
   "file_extension": ".py",
   "mimetype": "text/x-python",
   "name": "python",
   "nbconvert_exporter": "python",
   "pygments_lexer": "ipython3",
   "version": "3.10.8"
  }
 },
 "nbformat": 4,
 "nbformat_minor": 5
}
